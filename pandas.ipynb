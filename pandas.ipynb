{
 "cells": [
  {
   "cell_type": "code",
   "execution_count": 1,
   "id": "e31375e0-b61a-4b56-850a-a2698988fdf5",
   "metadata": {},
   "outputs": [],
   "source": [
    "import pandas as pd\n"
   ]
  },
  {
   "cell_type": "code",
   "execution_count": 29,
   "id": "af22bbd5-ab61-48b2-ae43-7baf8c9cc88a",
   "metadata": {},
   "outputs": [
    {
     "data": {
      "text/html": [
       "<div>\n",
       "<style scoped>\n",
       "    .dataframe tbody tr th:only-of-type {\n",
       "        vertical-align: middle;\n",
       "    }\n",
       "\n",
       "    .dataframe tbody tr th {\n",
       "        vertical-align: top;\n",
       "    }\n",
       "\n",
       "    .dataframe thead th {\n",
       "        text-align: right;\n",
       "    }\n",
       "</style>\n",
       "<table border=\"1\" class=\"dataframe\">\n",
       "  <thead>\n",
       "    <tr style=\"text-align: right;\">\n",
       "      <th></th>\n",
       "      <th>UserID</th>\n",
       "      <th>SessionID</th>\n",
       "      <th>Timestamp</th>\n",
       "      <th>EventType</th>\n",
       "      <th>ProductID</th>\n",
       "      <th>Amount</th>\n",
       "      <th>Outcome</th>\n",
       "    </tr>\n",
       "  </thead>\n",
       "  <tbody>\n",
       "    <tr>\n",
       "      <th>count</th>\n",
       "      <td>74817.000000</td>\n",
       "      <td>74817.000000</td>\n",
       "      <td>74817</td>\n",
       "      <td>74817</td>\n",
       "      <td>32113</td>\n",
       "      <td>10682.000000</td>\n",
       "      <td>10682</td>\n",
       "    </tr>\n",
       "    <tr>\n",
       "      <th>unique</th>\n",
       "      <td>NaN</td>\n",
       "      <td>NaN</td>\n",
       "      <td>74817</td>\n",
       "      <td>7</td>\n",
       "      <td>8747</td>\n",
       "      <td>NaN</td>\n",
       "      <td>1</td>\n",
       "    </tr>\n",
       "    <tr>\n",
       "      <th>top</th>\n",
       "      <td>NaN</td>\n",
       "      <td>NaN</td>\n",
       "      <td>2024-07-07 18:00:26.959902</td>\n",
       "      <td>page_view</td>\n",
       "      <td>prod_6051</td>\n",
       "      <td>NaN</td>\n",
       "      <td>purchase</td>\n",
       "    </tr>\n",
       "    <tr>\n",
       "      <th>freq</th>\n",
       "      <td>NaN</td>\n",
       "      <td>NaN</td>\n",
       "      <td>1</td>\n",
       "      <td>10819</td>\n",
       "      <td>12</td>\n",
       "      <td>NaN</td>\n",
       "      <td>10682</td>\n",
       "    </tr>\n",
       "    <tr>\n",
       "      <th>mean</th>\n",
       "      <td>500.740741</td>\n",
       "      <td>5.509777</td>\n",
       "      <td>NaN</td>\n",
       "      <td>NaN</td>\n",
       "      <td>NaN</td>\n",
       "      <td>253.189758</td>\n",
       "      <td>NaN</td>\n",
       "    </tr>\n",
       "    <tr>\n",
       "      <th>std</th>\n",
       "      <td>288.945183</td>\n",
       "      <td>2.869337</td>\n",
       "      <td>NaN</td>\n",
       "      <td>NaN</td>\n",
       "      <td>NaN</td>\n",
       "      <td>143.043974</td>\n",
       "      <td>NaN</td>\n",
       "    </tr>\n",
       "    <tr>\n",
       "      <th>min</th>\n",
       "      <td>1.000000</td>\n",
       "      <td>1.000000</td>\n",
       "      <td>NaN</td>\n",
       "      <td>NaN</td>\n",
       "      <td>NaN</td>\n",
       "      <td>5.131843</td>\n",
       "      <td>NaN</td>\n",
       "    </tr>\n",
       "    <tr>\n",
       "      <th>25%</th>\n",
       "      <td>251.000000</td>\n",
       "      <td>3.000000</td>\n",
       "      <td>NaN</td>\n",
       "      <td>NaN</td>\n",
       "      <td>NaN</td>\n",
       "      <td>130.933965</td>\n",
       "      <td>NaN</td>\n",
       "    </tr>\n",
       "    <tr>\n",
       "      <th>50%</th>\n",
       "      <td>501.000000</td>\n",
       "      <td>6.000000</td>\n",
       "      <td>NaN</td>\n",
       "      <td>NaN</td>\n",
       "      <td>NaN</td>\n",
       "      <td>253.112517</td>\n",
       "      <td>NaN</td>\n",
       "    </tr>\n",
       "    <tr>\n",
       "      <th>75%</th>\n",
       "      <td>751.000000</td>\n",
       "      <td>8.000000</td>\n",
       "      <td>NaN</td>\n",
       "      <td>NaN</td>\n",
       "      <td>NaN</td>\n",
       "      <td>378.832078</td>\n",
       "      <td>NaN</td>\n",
       "    </tr>\n",
       "    <tr>\n",
       "      <th>max</th>\n",
       "      <td>1000.000000</td>\n",
       "      <td>10.000000</td>\n",
       "      <td>NaN</td>\n",
       "      <td>NaN</td>\n",
       "      <td>NaN</td>\n",
       "      <td>499.981538</td>\n",
       "      <td>NaN</td>\n",
       "    </tr>\n",
       "  </tbody>\n",
       "</table>\n",
       "</div>"
      ],
      "text/plain": [
       "              UserID     SessionID                   Timestamp  EventType  \\\n",
       "count   74817.000000  74817.000000                       74817      74817   \n",
       "unique           NaN           NaN                       74817          7   \n",
       "top              NaN           NaN  2024-07-07 18:00:26.959902  page_view   \n",
       "freq             NaN           NaN                           1      10819   \n",
       "mean      500.740741      5.509777                         NaN        NaN   \n",
       "std       288.945183      2.869337                         NaN        NaN   \n",
       "min         1.000000      1.000000                         NaN        NaN   \n",
       "25%       251.000000      3.000000                         NaN        NaN   \n",
       "50%       501.000000      6.000000                         NaN        NaN   \n",
       "75%       751.000000      8.000000                         NaN        NaN   \n",
       "max      1000.000000     10.000000                         NaN        NaN   \n",
       "\n",
       "        ProductID        Amount   Outcome  \n",
       "count       32113  10682.000000     10682  \n",
       "unique       8747           NaN         1  \n",
       "top     prod_6051           NaN  purchase  \n",
       "freq           12           NaN     10682  \n",
       "mean          NaN    253.189758       NaN  \n",
       "std           NaN    143.043974       NaN  \n",
       "min           NaN      5.131843       NaN  \n",
       "25%           NaN    130.933965       NaN  \n",
       "50%           NaN    253.112517       NaN  \n",
       "75%           NaN    378.832078       NaN  \n",
       "max           NaN    499.981538       NaN  "
      ]
     },
     "execution_count": 29,
     "metadata": {},
     "output_type": "execute_result"
    }
   ],
   "source": [
    "df =  pd.read_csv(r\"C:\\Users\\ASUS\\Downloads\\archive.zip\")\n",
    "df.describe(include=\"all\")"
   ]
  },
  {
   "cell_type": "code",
   "execution_count": 31,
   "id": "1244cb07-4c2e-4cc0-893b-defe7447ea4d",
   "metadata": {},
   "outputs": [
    {
     "data": {
      "text/plain": [
       "<bound method DataFrame.info of        UserID  SessionID                   Timestamp     EventType  ProductID  \\\n",
       "0           1          1  2024-07-07 18:00:26.959902     page_view        NaN   \n",
       "1           1          1  2024-03-05 22:01:00.072000     page_view        NaN   \n",
       "2           1          1  2024-03-23 22:08:10.568453  product_view  prod_8199   \n",
       "3           1          1  2024-03-12 00:32:05.495638   add_to_cart  prod_4112   \n",
       "4           1          1  2024-02-25 22:43:01.318876   add_to_cart  prod_3354   \n",
       "...       ...        ...                         ...           ...        ...   \n",
       "74812    1000         10  2024-05-11 22:48:45.500117      purchase  prod_1238   \n",
       "74813    1000         10  2024-03-29 04:09:32.514318        logout        NaN   \n",
       "74814    1000         10  2024-02-09 02:58:56.128697         login        NaN   \n",
       "74815    1000         10  2024-04-30 16:19:48.002633      purchase  prod_2515   \n",
       "74816    1000         10  2024-04-01 02:19:29.148727        logout        NaN   \n",
       "\n",
       "           Amount   Outcome  \n",
       "0             NaN       NaN  \n",
       "1             NaN       NaN  \n",
       "2             NaN       NaN  \n",
       "3             NaN       NaN  \n",
       "4             NaN       NaN  \n",
       "...           ...       ...  \n",
       "74812  186.208225  purchase  \n",
       "74813         NaN       NaN  \n",
       "74814         NaN       NaN  \n",
       "74815  198.757849  purchase  \n",
       "74816         NaN       NaN  \n",
       "\n",
       "[74817 rows x 7 columns]>"
      ]
     },
     "execution_count": 31,
     "metadata": {},
     "output_type": "execute_result"
    }
   ],
   "source": [
    "df.info"
   ]
  },
  {
   "cell_type": "code",
   "execution_count": 1,
   "id": "1f0aef35-4c17-48a5-b34e-741e70bda919",
   "metadata": {},
   "outputs": [],
   "source": [
    "import numpy as np\n"
   ]
  },
  {
   "cell_type": "code",
   "execution_count": 3,
   "id": "9926400b-acce-4332-ad07-e5640641dead",
   "metadata": {},
   "outputs": [],
   "source": [
    "import pandas as pd"
   ]
  },
  {
   "cell_type": "code",
   "execution_count": 7,
   "id": "8d0e169b-2784-47b7-83e5-c2a00e8725af",
   "metadata": {},
   "outputs": [
    {
     "data": {
      "text/plain": [
       "a    1\n",
       "b    2\n",
       "c    3\n",
       "dtype: int64"
      ]
     },
     "execution_count": 7,
     "metadata": {},
     "output_type": "execute_result"
    }
   ],
   "source": [
    "d = {'a': 1, 'b': 2, 'c': 3}\n",
    "ser = pd.Series(data=d)\n",
    "ser"
   ]
  },
  {
   "cell_type": "code",
   "execution_count": 11,
   "id": "d99ff981-bc79-4d63-acae-ee57b54cbe5d",
   "metadata": {},
   "outputs": [
    {
     "ename": "SyntaxError",
     "evalue": "invalid syntax (3284711363.py, line 2)",
     "output_type": "error",
     "traceback": [
      "\u001b[1;36m  Cell \u001b[1;32mIn[11], line 2\u001b[1;36m\u001b[0m\n\u001b[1;33m    ser = pd.Series(data=d, index=['a': 1, 'b'L: 2, 'c'L: 3])\u001b[0m\n\u001b[1;37m                                      ^\u001b[0m\n\u001b[1;31mSyntaxError\u001b[0m\u001b[1;31m:\u001b[0m invalid syntax\n"
     ]
    }
   ],
   "source": [
    "d = {'a': 1, 'b': 2, 'c': 3}\n",
    "ser = pd.Series(data=d, index=['a': 1, 'y' ,'c'])\n",
    "ser"
   ]
  },
  {
   "cell_type": "code",
   "execution_count": null,
   "id": "263620b9-8195-4273-b080-8a9877eafd12",
   "metadata": {},
   "outputs": [],
   "source": []
  }
 ],
 "metadata": {
  "kernelspec": {
   "display_name": "Python 3 (ipykernel)",
   "language": "python",
   "name": "python3"
  },
  "language_info": {
   "codemirror_mode": {
    "name": "ipython",
    "version": 3
   },
   "file_extension": ".py",
   "mimetype": "text/x-python",
   "name": "python",
   "nbconvert_exporter": "python",
   "pygments_lexer": "ipython3",
   "version": "3.12.4"
  }
 },
 "nbformat": 4,
 "nbformat_minor": 5
}
