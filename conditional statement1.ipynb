{
 "cells": [
  {
   "cell_type": "code",
   "execution_count": 3,
   "id": "85eb5dae-12f2-43c4-abf4-2c1b203fc321",
   "metadata": {},
   "outputs": [
    {
     "name": "stdout",
     "output_type": "stream",
     "text": [
      "Hi!\n",
      "siva\n"
     ]
    }
   ],
   "source": [
    "if 1<2:\n",
    "    print('Hi!')\n",
    "    print('siva')"
   ]
  },
  {
   "cell_type": "code",
   "execution_count": 5,
   "id": "18a8e456-302f-418f-b06b-922d5ffa7107",
   "metadata": {},
   "outputs": [],
   "source": [
    "if 1>2:\n",
    "    print('Hi!')"
   ]
  },
  {
   "cell_type": "code",
   "execution_count": 7,
   "id": "d5e02f2b-16ef-4d20-a712-14824c83d577",
   "metadata": {},
   "outputs": [
    {
     "name": "stdout",
     "output_type": "stream",
     "text": [
      "siva\n"
     ]
    }
   ],
   "source": [
    "if 1>2:\n",
    "    print('Hi!')\n",
    "\n",
    "print(\"siva\")\n",
    "    "
   ]
  },
  {
   "cell_type": "code",
   "execution_count": 9,
   "id": "0f106e76-0e32-4cda-ae41-d3aa58e9a3cb",
   "metadata": {},
   "outputs": [
    {
     "name": "stdin",
     "output_type": "stream",
     "text": [
      "Enter Name: siva\n"
     ]
    },
    {
     "name": "stdout",
     "output_type": "stream",
     "text": [
      "Hello siva Good Morning\n"
     ]
    }
   ],
   "source": [
    "name=input(\"Enter Name:\")\n",
    "if name ==\"siva\" :\n",
    "    print(\"Hello siva Good Morning\")\n",
    "    "
   ]
  },
  {
   "cell_type": "code",
   "execution_count": 13,
   "id": "f6a18c29-1876-4cd3-9f6a-af29896f66f7",
   "metadata": {},
   "outputs": [
    {
     "name": "stdout",
     "output_type": "stream",
     "text": [
      "last\n"
     ]
    }
   ],
   "source": [
    "if 1 > 2:\n",
    "    print('first')\n",
    "else:\n",
    "    print('last')"
   ]
  },
  {
   "cell_type": "code",
   "execution_count": 15,
   "id": "7ba2f88e-40d0-4d39-87c4-0cfd9a24099c",
   "metadata": {},
   "outputs": [
    {
     "name": "stdout",
     "output_type": "stream",
     "text": [
      "last\n"
     ]
    }
   ],
   "source": [
    "if 1 > 2:\n",
    "    print('first')\n",
    "else:\n",
    "    print('last')\n",
    "    "
   ]
  },
  {
   "cell_type": "code",
   "execution_count": 17,
   "id": "a0383bce-551c-442d-b9d8-97d508b70210",
   "metadata": {},
   "outputs": [
    {
     "name": "stdin",
     "output_type": "stream",
     "text": [
      "enter a number 5\n"
     ]
    },
    {
     "name": "stdout",
     "output_type": "stream",
     "text": [
      "5  is odd number\n"
     ]
    }
   ],
   "source": [
    "x=int(input('enter a number'))\n",
    "if (x%2==0):\n",
    "    print(x, ' is even number')\n",
    "else:\n",
    "    print(x, ' is odd number')"
   ]
  },
  {
   "cell_type": "code",
   "execution_count": 19,
   "id": "2142e4b1-e16b-499d-8e71-9ee9f03d853e",
   "metadata": {},
   "outputs": [
    {
     "name": "stdin",
     "output_type": "stream",
     "text": [
      " 5\n"
     ]
    },
    {
     "name": "stdout",
     "output_type": "stream",
     "text": [
      "5 is positive\n"
     ]
    }
   ],
   "source": [
    "a=int(input())\n",
    "if(a>=0):\n",
    "    print(a, 'is positive')\n",
    "else:\n",
    "    print(a, 'is negative number')"
   ]
  },
  {
   "cell_type": "code",
   "execution_count": 21,
   "id": "e9dfa174-0c13-4f82-8ed9-5144b89873d3",
   "metadata": {},
   "outputs": [
    {
     "name": "stdout",
     "output_type": "stream",
     "text": [
      "6 is even number\n",
      "this is out of IF else block\n"
     ]
    }
   ],
   "source": [
    "x = 6\n",
    "if x%2 == 0 :\n",
    "    print(x, \"is even number\")\n",
    "else:\n",
    "    print(x, \"is ODD numbeer\")\n",
    "\n",
    "print(\"this is out of IF else block\")\n",
    "    "
   ]
  },
  {
   "cell_type": "code",
   "execution_count": 23,
   "id": "a2a1787f-c563-49c5-b1e7-a1be7e9d3add",
   "metadata": {},
   "outputs": [
    {
     "name": "stdout",
     "output_type": "stream",
     "text": [
      "first\n"
     ]
    }
   ],
   "source": [
    "if 2 == 2:\n",
    "    print('first')\n",
    "elif 3 == 3:\n",
    "    print('middle')"
   ]
  },
  {
   "cell_type": "code",
   "execution_count": 1,
   "id": "a05681d8-d8af-49fa-9939-4f21115803d9",
   "metadata": {},
   "outputs": [
    {
     "name": "stdout",
     "output_type": "stream",
     "text": [
      "Grade C\n"
     ]
    }
   ],
   "source": [
    "y=52\n",
    "\n",
    "if y>90:\n",
    "    print(\"Grade A\")\n",
    "\n",
    "elif(y>60):\n",
    "    print(\"Grade B\")\n",
    "\n",
    "elif y>40:\n",
    "    print(\"Grade C\")\n",
    "\n",
    "else:\n",
    "    print(\"Grade F\")\n",
    "    \n",
    "\n",
    "    \n",
    "    \n"
   ]
  },
  {
   "cell_type": "code",
   "execution_count": 3,
   "id": "ac4740c3-0f4b-46ad-be98-00d6d19eb49e",
   "metadata": {},
   "outputs": [
    {
     "name": "stdout",
     "output_type": "stream",
     "text": [
      "I am in elif block\n",
      "X is negative\n"
     ]
    }
   ],
   "source": [
    "x=-45.99\n",
    "\n",
    "if ((x>0) or (x== -100)):\n",
    "    print(\"x is positive value or -100\")\n",
    "    print(\"I am if loop\")\n",
    "\n",
    "elif (x<0):\n",
    "    print(\"I am in elif block\")\n",
    "    print(\"X is negative\")\n",
    "\n",
    "else:\n",
    "    print(\"X is zero\")"
   ]
  },
  {
   "cell_type": "code",
   "execution_count": 10,
   "id": "5869f753-524e-48d3-8644-d94a91aab547",
   "metadata": {},
   "outputs": [
    {
     "name": "stdout",
     "output_type": "stream",
     "text": [
      "negative\n",
      "I am out of IF block\n"
     ]
    }
   ],
   "source": [
    "x = -20\n",
    "\n",
    "if x > 0:\n",
    "    print('positive')\n",
    "    print('Hello')\n",
    "\n",
    "elif x == 0:\n",
    "    print('zero')\n",
    "\n",
    "else:\n",
    "    print('negative')\n",
    "\n",
    "print(\"I am out of IF block\")\n"
   ]
  },
  {
   "cell_type": "code",
   "execution_count": 12,
   "id": "c39e385c-5f94-4169-9c39-f255c02565cd",
   "metadata": {},
   "outputs": [
    {
     "name": "stdin",
     "output_type": "stream",
     "text": [
      "Enter First Number: 5\n",
      "Enter Second Number: 20\n"
     ]
    },
    {
     "name": "stdout",
     "output_type": "stream",
     "text": [
      "Biggest Number is: 20\n"
     ]
    }
   ],
   "source": [
    "n1=int(input(\"Enter First Number:\"))\n",
    "n2=int(input(\"Enter Second Number:\"))\n",
    "if n1>n2:\n",
    "    print(\"Biggest Number is:\",n1)\n",
    "else:\n",
    "    print(\"Biggest Number is:\",n2)\n",
    "\n",
    "          \n",
    "          "
   ]
  },
  {
   "cell_type": "code",
   "execution_count": null,
   "id": "0e2d4f58-0fff-4f95-bc9a-0228ef1a25f1",
   "metadata": {},
   "outputs": [],
   "source": []
  }
 ],
 "metadata": {
  "kernelspec": {
   "display_name": "Python 3 (ipykernel)",
   "language": "python",
   "name": "python3"
  },
  "language_info": {
   "codemirror_mode": {
    "name": "ipython",
    "version": 3
   },
   "file_extension": ".py",
   "mimetype": "text/x-python",
   "name": "python",
   "nbconvert_exporter": "python",
   "pygments_lexer": "ipython3",
   "version": "3.12.4"
  }
 },
 "nbformat": 4,
 "nbformat_minor": 5
}
