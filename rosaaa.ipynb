{
 "cells": [
  {
   "cell_type": "code",
   "execution_count": 1,
   "id": "5f0a0a94-a124-4746-a56a-0c0041421c81",
   "metadata": {},
   "outputs": [
    {
     "name": "stdin",
     "output_type": "stream",
     "text": [
      "Enter the value of a: 3\n",
      "Enter the value of b: 5\n"
     ]
    },
    {
     "name": "stdout",
     "output_type": "stream",
     "text": [
      "Add: 8\n",
      "Sum: {0}, Diff:{1}, Mult:{2}, Div:{3}, Mod:{4}\n"
     ]
    }
   ],
   "source": [
    "a=int(input(\"Enter the value of a:\"))\n",
    "b=int(input(\"Enter the value of b:\"))\n",
    "add=a+b\n",
    "sub=a-b\n",
    "mult=a*b\n",
    "div=a/b\n",
    "mod=a%b\n",
    "print(\"Add:\",add)\n",
    "print(\"Sum: {0}, Diff:{1}, Mult:{2}, Div:{3}, Mod:{4}\")"
   ]
  },
  {
   "cell_type": "code",
   "execution_count": 2,
   "id": "c3b41217-6db1-4336-913f-ee29990e74bb",
   "metadata": {},
   "outputs": [
    {
     "ename": "SyntaxError",
     "evalue": "'(' was never closed (3178001043.py, line 2)",
     "output_type": "error",
     "traceback": [
      "\u001b[1;36m  Cell \u001b[1;32mIn[2], line 2\u001b[1;36m\u001b[0m\n\u001b[1;33m    print('{0:<4} | {1:^4} | {2:^4} | {3:>4}'\u001b[0m\n\u001b[1;37m         ^\u001b[0m\n\u001b[1;31mSyntaxError\u001b[0m\u001b[1;31m:\u001b[0m '(' was never closed\n"
     ]
    }
   ],
   "source": [
    "print('{0: <4} | {1:^4} | {2:^4} | {3:>4}',format(;Sum;,'Diff','Mult',\n",
    "                                                  \n",
    "print('{0:<4} | {1:^4} | {2:^4} | {3:>4}'      "
   ]
  },
  {
   "cell_type": "code",
   "execution_count": 3,
   "id": "a18fa8b8-9bb9-4842-8296-34b59d34a590",
   "metadata": {},
   "outputs": [
    {
     "name": "stdout",
     "output_type": "stream",
     "text": [
      "welcome to pythonMaster Class !\n"
     ]
    }
   ],
   "source": [
    "a=\"Master Class\"\n",
    "print(f\"welcome to python{a} !\")"
   ]
  },
  {
   "cell_type": "code",
   "execution_count": 7,
   "id": "42fc9df0-218c-4d37-938c-6211126d4109",
   "metadata": {},
   "outputs": [
    {
     "name": "stdin",
     "output_type": "stream",
     "text": [
      "Enter a company name- TCS\n",
      "Enter the number of emplyees- 8765\n"
     ]
    },
    {
     "name": "stdout",
     "output_type": "stream",
     "text": [
      "The name of the company is and the number of employees are TCS 8765\n"
     ]
    }
   ],
   "source": [
    "f = input(\"Enter a company name-\")\n",
    "g = input(\"Enter the number of emplyees-\")\n",
    "print(\"The name of the company is and the number of employees are\",f,g)"
   ]
  },
  {
   "cell_type": "code",
   "execution_count": 8,
   "id": "611bf5e9-fa8c-4d6a-b63c-928206b42549",
   "metadata": {},
   "outputs": [
    {
     "name": "stdout",
     "output_type": "stream",
     "text": [
      "The name of the company is TCS and the number of emplyees are 8765\n"
     ]
    }
   ],
   "source": [
    "print(\"The name of the company is\",f,\"and the number of emplyees are\",g)"
   ]
  },
  {
   "cell_type": "code",
   "execution_count": null,
   "id": "a80bd59d-25be-4b64-aabf-da5997dc266c",
   "metadata": {},
   "outputs": [],
   "source": []
  },
  {
   "cell_type": "code",
   "execution_count": null,
   "id": "8e409324-d3e6-4969-a980-329ab6ec6aef",
   "metadata": {},
   "outputs": [],
   "source": []
  },
  {
   "cell_type": "code",
   "execution_count": null,
   "id": "70f8e5d2-7e88-4bea-8762-b995298408db",
   "metadata": {},
   "outputs": [],
   "source": []
  }
 ],
 "metadata": {
  "kernelspec": {
   "display_name": "Python 3 (ipykernel)",
   "language": "python",
   "name": "python3"
  },
  "language_info": {
   "codemirror_mode": {
    "name": "ipython",
    "version": 3
   },
   "file_extension": ".py",
   "mimetype": "text/x-python",
   "name": "python",
   "nbconvert_exporter": "python",
   "pygments_lexer": "ipython3",
   "version": "3.11.7"
  }
 },
 "nbformat": 4,
 "nbformat_minor": 5
}
