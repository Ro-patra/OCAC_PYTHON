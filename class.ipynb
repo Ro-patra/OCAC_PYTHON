{
 "cells": [
  {
   "cell_type": "code",
   "execution_count": 5,
   "id": "9315bd58-b0fc-4922-a9a7-cae4db231965",
   "metadata": {},
   "outputs": [
    {
     "name": "stdout",
     "output_type": "stream",
     "text": [
      "Hello Ankit 5\n"
     ]
    }
   ],
   "source": [
    "class Myclass:\n",
    "    x = 5\n",
    "    print(\"Hello Ankit\",x)"
   ]
  },
  {
   "cell_type": "code",
   "execution_count": 7,
   "id": "8df89783-e60b-43b8-be6d-0a438dee5c99",
   "metadata": {},
   "outputs": [
    {
     "name": "stdout",
     "output_type": "stream",
     "text": [
      "5\n"
     ]
    }
   ],
   "source": [
    "p1 = Myclass()\n",
    "print(p1.x)"
   ]
  },
  {
   "cell_type": "code",
   "execution_count": 9,
   "id": "d5bb04b0-b8e0-42c9-a1d0-1d61837fabf7",
   "metadata": {},
   "outputs": [
    {
     "name": "stdout",
     "output_type": "stream",
     "text": [
      "5\n",
      "<class '__main__.Myclass'>\n"
     ]
    }
   ],
   "source": [
    "y=Myclass()\n",
    "print(y.x)\n",
    "print(type(y))"
   ]
  },
  {
   "cell_type": "code",
   "execution_count": 11,
   "id": "8c5fc3ec-d10a-4006-9732-f8cd5c57c0ab",
   "metadata": {},
   "outputs": [
    {
     "name": "stdout",
     "output_type": "stream",
     "text": [
      "Hello Amit\n",
      "<class '__main__.students'>\n"
     ]
    }
   ],
   "source": [
    "class students:\n",
    "    print(\"Hello Amit\")\n",
    "\n",
    "z = students()\n",
    "print(type(z))"
   ]
  },
  {
   "cell_type": "code",
   "execution_count": 13,
   "id": "94c6946d-3ad6-4e0e-84e2-73652b78fa19",
   "metadata": {},
   "outputs": [
    {
     "name": "stdout",
     "output_type": "stream",
     "text": [
      "Hello, Welcome to OCAC\n"
     ]
    }
   ],
   "source": [
    "class student:\n",
    "    def func():\n",
    "        print(\"Hello, Welcome to OCAC\")\n",
    "\n",
    "student.func()"
   ]
  },
  {
   "cell_type": "code",
   "execution_count": 17,
   "id": "4feb7888-9dc7-46ec-9fa8-a0b5860e6312",
   "metadata": {},
   "outputs": [
    {
     "name": "stdout",
     "output_type": "stream",
     "text": [
      "Hello,welcome to OCAC 2021\n"
     ]
    }
   ],
   "source": [
    "class student:\n",
    "    year = 2021\n",
    "    def func(self):\n",
    "        print(\"Hello,welcome to OCAC\", self.year)\n",
    "x = student()\n",
    "x.func()"
   ]
  },
  {
   "cell_type": "code",
   "execution_count": 27,
   "id": "c911ffef-0fd9-47a8-ac3a-84cbaee92bf3",
   "metadata": {},
   "outputs": [
    {
     "name": "stdout",
     "output_type": "stream",
     "text": [
      "Elon Musk!\n",
      "I am Champ\n"
     ]
    }
   ],
   "source": [
    "class student:\n",
    "    def __init__(self,name):\n",
    "        self.name = name\n",
    "\n",
    "elon = student(name= 'Elon Musk!')\n",
    "champ = student(name=\"I am Champ\")\n",
    "\n",
    "print(elon.name)\n",
    "print(champ.name)"
   ]
  },
  {
   "cell_type": "code",
   "execution_count": 29,
   "id": "2d2c6920-584d-4aea-9561-5fcf9b7113f2",
   "metadata": {},
   "outputs": [
    {
     "name": "stdout",
     "output_type": "stream",
     "text": [
      "john\n",
      "36\n"
     ]
    }
   ],
   "source": [
    "class person:\n",
    "    def __init__(self, name, age):\n",
    "        self.name = name\n",
    "        self.age = age\n",
    "\n",
    "p1 = person(\"john\", 36)\n",
    "\n",
    "print(p1.name)\n",
    "print(p1.age)"
   ]
  },
  {
   "cell_type": "code",
   "execution_count": 35,
   "id": "1b6036fa-b769-4d82-b317-3d71bd4021c2",
   "metadata": {},
   "outputs": [
    {
     "ename": "SyntaxError",
     "evalue": "incomplete input (3521941808.py, line 5)",
     "output_type": "error",
     "traceback": [
      "\u001b[1;36m  Cell \u001b[1;32mIn[35], line 5\u001b[1;36m\u001b[0m\n\u001b[1;33m    print('percentage is: {:.2f}'\u001b[0m\n\u001b[1;37m                                 ^\u001b[0m\n\u001b[1;31mSyntaxError\u001b[0m\u001b[1;31m:\u001b[0m incomplete input\n"
     ]
    }
   ],
   "source": [
    "a = student(marks=458)\n",
    "print(\"Total Marks:\", a.Total)\n",
    "print('Lost Marks:', a.findloss())\n",
    "\n",
    "print('percentage is:', a.findpercentage())\n",
    "print('percentage is: {:.2f}'"
   ]
  },
  {
   "cell_type": "code",
   "execution_count": 1,
   "id": "9ea9affa-b117-435b-8f9d-de1e2ac5c470",
   "metadata": {},
   "outputs": [
    {
     "ename": "AttributeError",
     "evalue": "type object 'Myclass' has no attribute 'my_func'",
     "output_type": "error",
     "traceback": [
      "\u001b[1;31m---------------------------------------------------------------------------\u001b[0m",
      "\u001b[1;31mAttributeError\u001b[0m                            Traceback (most recent call last)",
      "Cell \u001b[1;32mIn[1], line 7\u001b[0m\n\u001b[0;32m      2\u001b[0m     \u001b[38;5;129m@staticmethod\u001b[39m\n\u001b[0;32m      3\u001b[0m     \u001b[38;5;28;01mdef\u001b[39;00m \u001b[38;5;21mmy_function\u001b[39m(arg1, arg2):\n\u001b[0;32m      5\u001b[0m         \u001b[38;5;28;01mreturn\u001b[39;00m arg1 \u001b[38;5;241m+\u001b[39m arg2\n\u001b[1;32m----> 7\u001b[0m result \u001b[38;5;241m=\u001b[39m Myclass\u001b[38;5;241m.\u001b[39mmy_func\n",
      "\u001b[1;31mAttributeError\u001b[0m: type object 'Myclass' has no attribute 'my_func'"
     ]
    }
   ],
   "source": [
    "class Myclass:\n",
    "    @staticmethod\n",
    "    def my_function(arg1, arg2):\n",
    "        \n",
    "        return arg1 + arg2\n",
    "\n",
    "result = Myclass.my_func\n"
   ]
  },
  {
   "cell_type": "code",
   "execution_count": null,
   "id": "98362aa3-2280-409b-9c95-97160a2123be",
   "metadata": {},
   "outputs": [],
   "source": []
  }
 ],
 "metadata": {
  "kernelspec": {
   "display_name": "Python 3 (ipykernel)",
   "language": "python",
   "name": "python3"
  },
  "language_info": {
   "codemirror_mode": {
    "name": "ipython",
    "version": 3
   },
   "file_extension": ".py",
   "mimetype": "text/x-python",
   "name": "python",
   "nbconvert_exporter": "python",
   "pygments_lexer": "ipython3",
   "version": "3.12.4"
  }
 },
 "nbformat": 4,
 "nbformat_minor": 5
}
