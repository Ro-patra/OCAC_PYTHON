{
 "cells": [
  {
   "cell_type": "code",
   "execution_count": 1,
   "id": "29d067a1-ba70-499f-8edb-3129f34338a3",
   "metadata": {},
   "outputs": [
    {
     "name": "stdout",
     "output_type": "stream",
     "text": [
      "50\n"
     ]
    }
   ],
   "source": [
    "a=50\n",
    "print(a)\n"
   ]
  },
  {
   "cell_type": "code",
   "execution_count": 3,
   "id": "64076291-8376-4cd4-9620-f980dfc12903",
   "metadata": {},
   "outputs": [
    {
     "data": {
      "text/plain": [
       "int"
      ]
     },
     "execution_count": 3,
     "metadata": {},
     "output_type": "execute_result"
    }
   ],
   "source": [
    "type(a)"
   ]
  },
  {
   "cell_type": "code",
   "execution_count": 4,
   "id": "3ddc6077-0d19-44af-80e6-5e10a899393e",
   "metadata": {},
   "outputs": [
    {
     "ename": "NameError",
     "evalue": "name 'b' is not defined",
     "output_type": "error",
     "traceback": [
      "\u001b[1;31m---------------------------------------------------------------------------\u001b[0m",
      "\u001b[1;31mNameError\u001b[0m                                 Traceback (most recent call last)",
      "Cell \u001b[1;32mIn[4], line 1\u001b[0m\n\u001b[1;32m----> 1\u001b[0m \u001b[38;5;28mtype\u001b[39m(b)\n",
      "\u001b[1;31mNameError\u001b[0m: name 'b' is not defined"
     ]
    }
   ],
   "source": [
    "type(b)"
   ]
  },
  {
   "cell_type": "code",
   "execution_count": 5,
   "id": "bc42ae68-8995-4c29-b253-5b8219a1ef45",
   "metadata": {},
   "outputs": [
    {
     "name": "stdout",
     "output_type": "stream",
     "text": [
      "DOG\n"
     ]
    }
   ],
   "source": [
    "c='DOG'\n",
    "print(c)\n"
   ]
  },
  {
   "cell_type": "code",
   "execution_count": 6,
   "id": "a7fcd9bb-1d77-4b7e-843c-4710eaf1ed6a",
   "metadata": {},
   "outputs": [
    {
     "name": "stdout",
     "output_type": "stream",
     "text": [
      "80\n"
     ]
    }
   ],
   "source": [
    "ib=80\n",
    "print(ib)"
   ]
  },
  {
   "cell_type": "code",
   "execution_count": 7,
   "id": "f14f4c16-ee95-4187-ad5c-211042e7ccf1",
   "metadata": {},
   "outputs": [
    {
     "name": "stdout",
     "output_type": "stream",
     "text": [
      "20\n"
     ]
    }
   ],
   "source": [
    "c=\"20\"\n",
    "print(c)\n"
   ]
  },
  {
   "cell_type": "code",
   "execution_count": 9,
   "id": "09cec2af-055c-49c4-a42f-0bfbf29e21d6",
   "metadata": {},
   "outputs": [
    {
     "data": {
      "text/plain": [
       "str"
      ]
     },
     "execution_count": 9,
     "metadata": {},
     "output_type": "execute_result"
    }
   ],
   "source": [
    "type(c)"
   ]
  },
  {
   "cell_type": "code",
   "execution_count": 10,
   "id": "0fe3b9f5-ecd9-46af-851c-d6c23436412a",
   "metadata": {},
   "outputs": [
    {
     "name": "stdout",
     "output_type": "stream",
     "text": [
      "20\n"
     ]
    }
   ],
   "source": [
    "a=20\n",
    "print(a)"
   ]
  },
  {
   "cell_type": "code",
   "execution_count": 11,
   "id": "3707d14c-f14f-4063-8edb-c2216c84ea82",
   "metadata": {},
   "outputs": [
    {
     "name": "stdout",
     "output_type": "stream",
     "text": [
      "99a\n"
     ]
    }
   ],
   "source": [
    "cd=\"99a\"\n",
    "print(cd)"
   ]
  },
  {
   "cell_type": "code",
   "execution_count": 12,
   "id": "5adcf986-151a-4ccf-861c-039494ca444c",
   "metadata": {},
   "outputs": [
    {
     "data": {
      "text/plain": [
       "str"
      ]
     },
     "execution_count": 12,
     "metadata": {},
     "output_type": "execute_result"
    }
   ],
   "source": [
    "type(cd)"
   ]
  },
  {
   "cell_type": "code",
   "execution_count": 13,
   "id": "5a1aa3ae-c835-43aa-a8e2-0aa29d7e0231",
   "metadata": {},
   "outputs": [
    {
     "name": "stdout",
     "output_type": "stream",
     "text": [
      "['False', 'None', 'True', 'and', 'as', 'assert', 'async', 'await', 'break', 'class', 'continue', 'def', 'del', 'elif', 'else', 'except', 'finally', 'for', 'from', 'global', 'if', 'import', 'in', 'is', 'lambda', 'nonlocal', 'not', 'or', 'pass', 'raise', 'return', 'try', 'while', 'with', 'yield']\n"
     ]
    }
   ],
   "source": [
    "import keyword\n",
    "print(keyword.kwlist)"
   ]
  },
  {
   "cell_type": "code",
   "execution_count": 14,
   "id": "c0f6f350-747a-4cf9-8fbc-02f4458ffe20",
   "metadata": {},
   "outputs": [
    {
     "data": {
      "text/plain": [
       "35"
      ]
     },
     "execution_count": 14,
     "metadata": {},
     "output_type": "execute_result"
    }
   ],
   "source": [
    "len(keyword.kwlist)"
   ]
  },
  {
   "cell_type": "code",
   "execution_count": 15,
   "id": "4a7adfdd-fc25-4ec8-bd96-84479da6e70d",
   "metadata": {},
   "outputs": [
    {
     "ename": "SyntaxError",
     "evalue": "cannot assign to False (1718535026.py, line 1)",
     "output_type": "error",
     "traceback": [
      "\u001b[1;36m  Cell \u001b[1;32mIn[15], line 1\u001b[1;36m\u001b[0m\n\u001b[1;33m    False=\"8863\"\u001b[0m\n\u001b[1;37m    ^\u001b[0m\n\u001b[1;31mSyntaxError\u001b[0m\u001b[1;31m:\u001b[0m cannot assign to False\n"
     ]
    }
   ],
   "source": [
    "False=\"8863\"\n",
    "print(false)"
   ]
  },
  {
   "cell_type": "code",
   "execution_count": 16,
   "id": "8cb5d813-86b7-4145-8015-7fdcc945a4b4",
   "metadata": {},
   "outputs": [
    {
     "name": "stdout",
     "output_type": "stream",
     "text": [
      "50\n"
     ]
    }
   ],
   "source": [
    "a1=50\n",
    "print(a1)"
   ]
  },
  {
   "cell_type": "code",
   "execution_count": 17,
   "id": "3a7b5acb-b04d-4b5b-ac32-e2c5f25977b9",
   "metadata": {},
   "outputs": [
    {
     "ename": "SyntaxError",
     "evalue": "invalid decimal literal (2688609502.py, line 1)",
     "output_type": "error",
     "traceback": [
      "\u001b[1;36m  Cell \u001b[1;32mIn[17], line 1\u001b[1;36m\u001b[0m\n\u001b[1;33m    1b=90\u001b[0m\n\u001b[1;37m    ^\u001b[0m\n\u001b[1;31mSyntaxError\u001b[0m\u001b[1;31m:\u001b[0m invalid decimal literal\n"
     ]
    }
   ],
   "source": [
    "1b=90\n",
    "print(ib)"
   ]
  },
  {
   "cell_type": "code",
   "execution_count": null,
   "id": "19803e03-979c-4411-a117-d4422dbc37d6",
   "metadata": {},
   "outputs": [],
   "source": []
  },
  {
   "cell_type": "code",
   "execution_count": 18,
   "id": "4833d8af-8a38-4982-88e6-bbece431874a",
   "metadata": {},
   "outputs": [
    {
     "name": "stdout",
     "output_type": "stream",
     "text": [
      "504\n"
     ]
    }
   ],
   "source": [
    "b_6=504\n",
    "print(b_6)"
   ]
  },
  {
   "cell_type": "code",
   "execution_count": 21,
   "id": "09b3c90f-eaae-4f00-8133-308796b218ab",
   "metadata": {},
   "outputs": [
    {
     "data": {
      "text/plain": [
       "3248290564912"
      ]
     },
     "execution_count": 21,
     "metadata": {},
     "output_type": "execute_result"
    }
   ],
   "source": [
    "id(b_6)\n"
   ]
  },
  {
   "cell_type": "code",
   "execution_count": 22,
   "id": "8198eeab-7e5a-43f2-991a-eee8d482be48",
   "metadata": {},
   "outputs": [
    {
     "name": "stdout",
     "output_type": "stream",
     "text": [
      "504\n"
     ]
    }
   ],
   "source": [
    "v=504\n",
    "print(v)"
   ]
  },
  {
   "cell_type": "code",
   "execution_count": 23,
   "id": "21514d63-99c7-4978-9b7f-51f497965a31",
   "metadata": {},
   "outputs": [
    {
     "data": {
      "text/plain": [
       "3248290565200"
      ]
     },
     "execution_count": 23,
     "metadata": {},
     "output_type": "execute_result"
    }
   ],
   "source": [
    "v=503\n",
    "id(v)"
   ]
  },
  {
   "cell_type": "code",
   "execution_count": 24,
   "id": "8d49b421-d861-47e0-9fe2-e922aafa25b7",
   "metadata": {},
   "outputs": [
    {
     "data": {
      "text/plain": [
       "140715104128552"
      ]
     },
     "execution_count": 24,
     "metadata": {},
     "output_type": "execute_result"
    }
   ],
   "source": [
    "b=89\n",
    "c=87\n",
    "id(b)"
   ]
  },
  {
   "cell_type": "code",
   "execution_count": 25,
   "id": "55ecbeac-eb3b-4d2b-8331-6d55ba736f6a",
   "metadata": {},
   "outputs": [
    {
     "data": {
      "text/plain": [
       "140715104128488"
      ]
     },
     "execution_count": 25,
     "metadata": {},
     "output_type": "execute_result"
    }
   ],
   "source": [
    "id(c)"
   ]
  },
  {
   "cell_type": "code",
   "execution_count": 26,
   "id": "aa2c6225-055f-4660-ba2c-3401107e2ba4",
   "metadata": {},
   "outputs": [
    {
     "data": {
      "text/plain": [
       "140715104128552"
      ]
     },
     "execution_count": 26,
     "metadata": {},
     "output_type": "execute_result"
    }
   ],
   "source": [
    "d=89\n",
    "id(d)"
   ]
  },
  {
   "cell_type": "code",
   "execution_count": 27,
   "id": "6f3ca2ed-86f4-4063-afac-0579f86b920b",
   "metadata": {},
   "outputs": [
    {
     "data": {
      "text/plain": [
       "140715104127368"
      ]
     },
     "execution_count": 27,
     "metadata": {},
     "output_type": "execute_result"
    }
   ],
   "source": [
    "d=52\n",
    "id(d)"
   ]
  },
  {
   "cell_type": "code",
   "execution_count": 28,
   "id": "e834b794-5a6f-47d6-a1d3-93f6f829ad85",
   "metadata": {},
   "outputs": [
    {
     "name": "stdout",
     "output_type": "stream",
     "text": [
      "The summation of two numbers are 40\n"
     ]
    }
   ],
   "source": [
    "a=10\n",
    "b=30\n",
    "sum=a+b\n",
    "print(\"The summation of two numbers are\",sum)"
   ]
  },
  {
   "cell_type": "code",
   "execution_count": 29,
   "id": "91282166-bb85-4352-bd02-7c3889631f38",
   "metadata": {},
   "outputs": [
    {
     "name": "stdout",
     "output_type": "stream",
     "text": [
      "40\n"
     ]
    }
   ],
   "source": [
    "sum\n",
    "print(sum)"
   ]
  },
  {
   "cell_type": "code",
   "execution_count": 30,
   "id": "6e9baa80-f89c-4bed-b966-986df7058db5",
   "metadata": {},
   "outputs": [
    {
     "name": "stdout",
     "output_type": "stream",
     "text": [
      "9\n"
     ]
    }
   ],
   "source": [
    "a=b=c=9\n",
    "print(a)"
   ]
  },
  {
   "cell_type": "code",
   "execution_count": 31,
   "id": "5f0099ac-d4d7-48ac-8688-b981d33206db",
   "metadata": {},
   "outputs": [
    {
     "name": "stdout",
     "output_type": "stream",
     "text": [
      "87 65 43\n"
     ]
    }
   ],
   "source": [
    "a=87\n",
    "b=65\n",
    "c=43\n",
    "abc=87\n",
    "print(a,b,c)"
   ]
  },
  {
   "cell_type": "code",
   "execution_count": 32,
   "id": "fbf79a0d-acfa-4a19-aaaf-67a59260de30",
   "metadata": {},
   "outputs": [
    {
     "name": "stdout",
     "output_type": "stream",
     "text": [
      "64\n"
     ]
    }
   ],
   "source": [
    "a=64\n",
    "print(a)"
   ]
  },
  {
   "cell_type": "code",
   "execution_count": 34,
   "id": "9fedd6f0-6161-4a69-b509-74ee492c169d",
   "metadata": {},
   "outputs": [
    {
     "ename": "SyntaxError",
     "evalue": "invalid decimal literal (3371919107.py, line 1)",
     "output_type": "error",
     "traceback": [
      "\u001b[1;36m  Cell \u001b[1;32mIn[34], line 1\u001b[1;36m\u001b[0m\n\u001b[1;33m    1a=30\u001b[0m\n\u001b[1;37m    ^\u001b[0m\n\u001b[1;31mSyntaxError\u001b[0m\u001b[1;31m:\u001b[0m invalid decimal literal\n"
     ]
    }
   ],
   "source": [
    "1a=30\n",
    "print(1a)"
   ]
  },
  {
   "cell_type": "code",
   "execution_count": 35,
   "id": "5248ef0c-09aa-4368-8773-bd8741509ac5",
   "metadata": {},
   "outputs": [
    {
     "name": "stdout",
     "output_type": "stream",
     "text": [
      "10 20 30\n"
     ]
    }
   ],
   "source": [
    "a=10\n",
    "b=20\n",
    "c=30\n",
    "print(a,b,c)"
   ]
  },
  {
   "cell_type": "code",
   "execution_count": 36,
   "id": "b237fe9a-c233-4b59-aec6-b5f578dfbe2c",
   "metadata": {},
   "outputs": [
    {
     "name": "stdout",
     "output_type": "stream",
     "text": [
      "30 20 10\n"
     ]
    }
   ],
   "source": [
    "a,b,c=30,20,10\n",
    "print(a,b,c)"
   ]
  },
  {
   "cell_type": "code",
   "execution_count": 37,
   "id": "84006b70-fa1e-48d4-acd8-323698db8ade",
   "metadata": {},
   "outputs": [
    {
     "name": "stdout",
     "output_type": "stream",
     "text": [
      "AI\n"
     ]
    }
   ],
   "source": [
    "a=b=c=\"AI\"\n",
    "print(c)"
   ]
  },
  {
   "cell_type": "code",
   "execution_count": 38,
   "id": "311bf812-efd8-4a76-b133-317673ada154",
   "metadata": {},
   "outputs": [
    {
     "name": "stdout",
     "output_type": "stream",
     "text": [
      "2\n"
     ]
    }
   ],
   "source": [
    "print(2)\n"
   ]
  },
  {
   "cell_type": "code",
   "execution_count": 40,
   "id": "41bf0a96-17ea-434f-9eeb-812542f72604",
   "metadata": {},
   "outputs": [
    {
     "name": "stdout",
     "output_type": "stream",
     "text": [
      "rama\n"
     ]
    }
   ],
   "source": [
    "print(\"rama\")"
   ]
  },
  {
   "cell_type": "code",
   "execution_count": 41,
   "id": "47a39484-55df-49af-a927-33a5cf9b680d",
   "metadata": {},
   "outputs": [
    {
     "name": "stdout",
     "output_type": "stream",
     "text": [
      "software\n"
     ]
    }
   ],
   "source": [
    "print(\"software\")"
   ]
  },
  {
   "cell_type": "code",
   "execution_count": 42,
   "id": "0f721fe3-653d-4473-a315-69639ab29c99",
   "metadata": {},
   "outputs": [
    {
     "name": "stdout",
     "output_type": "stream",
     "text": [
      "68\n"
     ]
    }
   ],
   "source": [
    "b=68\n",
    "print(b)"
   ]
  },
  {
   "cell_type": "code",
   "execution_count": 44,
   "id": "927f7eb6-9d34-49aa-9f28-a44ff38e7e9f",
   "metadata": {},
   "outputs": [
    {
     "name": "stdout",
     "output_type": "stream",
     "text": [
      "siva\n"
     ]
    }
   ],
   "source": [
    "siva=10\n",
    "print(\"siva\")"
   ]
  },
  {
   "cell_type": "code",
   "execution_count": 45,
   "id": "dc4cf4aa-2c2c-4c28-8f4a-95bfe948c298",
   "metadata": {},
   "outputs": [
    {
     "name": "stdout",
     "output_type": "stream",
     "text": [
      "10 20 330 40\n"
     ]
    }
   ],
   "source": [
    "a=10\n",
    "b=20\n",
    "c=330\n",
    "d=40\n",
    "print(a,b,c,d)"
   ]
  },
  {
   "cell_type": "code",
   "execution_count": 46,
   "id": "a1d28ea8-abe2-4620-b0c3-7d4cfec8a33a",
   "metadata": {},
   "outputs": [
    {
     "name": "stdout",
     "output_type": "stream",
     "text": [
      "2\n"
     ]
    },
    {
     "data": {
      "text/plain": [
       "int"
      ]
     },
     "execution_count": 46,
     "metadata": {},
     "output_type": "execute_result"
    }
   ],
   "source": [
    "a=2\n",
    "print(a)\n",
    "type(a)"
   ]
  },
  {
   "cell_type": "code",
   "execution_count": 48,
   "id": "5c764fec-b138-4ab6-9aff-72c50a324096",
   "metadata": {},
   "outputs": [
    {
     "name": "stdout",
     "output_type": "stream",
     "text": [
      "2\n"
     ]
    },
    {
     "data": {
      "text/plain": [
       "str"
      ]
     },
     "execution_count": 48,
     "metadata": {},
     "output_type": "execute_result"
    }
   ],
   "source": [
    "a='2'\n",
    "print(a)\n",
    "type(a)"
   ]
  },
  {
   "cell_type": "code",
   "execution_count": 49,
   "id": "ed6befcb-4089-4086-bc89-fa6bf96c1fa5",
   "metadata": {},
   "outputs": [
    {
     "name": "stdout",
     "output_type": "stream",
     "text": [
      "40\n"
     ]
    }
   ],
   "source": [
    "a=10\n",
    "b=30\n",
    "c=a+b\n",
    "print(c)"
   ]
  },
  {
   "cell_type": "code",
   "execution_count": 50,
   "id": "b6a2d2cc-3a0e-4555-bc41-f3084fe701c8",
   "metadata": {},
   "outputs": [
    {
     "name": "stdout",
     "output_type": "stream",
     "text": [
      "30\n"
     ]
    }
   ],
   "source": [
    "a=10\n",
    "b=20\n",
    "print(a+b)"
   ]
  },
  {
   "cell_type": "code",
   "execution_count": 51,
   "id": "2f3a23b8-9134-4147-88dd-eeb688c5ce56",
   "metadata": {},
   "outputs": [
    {
     "name": "stdout",
     "output_type": "stream",
     "text": [
      "30\n"
     ]
    }
   ],
   "source": [
    "print(10+20)"
   ]
  },
  {
   "cell_type": "code",
   "execution_count": 52,
   "id": "27117dfa-e9ab-42bf-98b8-7ead73e81342",
   "metadata": {},
   "outputs": [
    {
     "name": "stdout",
     "output_type": "stream",
     "text": [
      "10 20 30 40\n"
     ]
    }
   ],
   "source": [
    "a=10\n",
    "b=20\n",
    "c=30\n",
    "d=40\n",
    "print(a,b,c,d)"
   ]
  },
  {
   "cell_type": "code",
   "execution_count": 53,
   "id": "503f69e7-71d7-4c10-988f-54806a232ff2",
   "metadata": {},
   "outputs": [
    {
     "name": "stdout",
     "output_type": "stream",
     "text": [
      "10:60:90:70\n"
     ]
    }
   ],
   "source": [
    "a=10\n",
    "b=60\n",
    "c=90\n",
    "d=70\n",
    "print(a,b,c,d,sep=\":\")"
   ]
  },
  {
   "cell_type": "code",
   "execution_count": 54,
   "id": "79005777-150f-46d3-9edb-4e6ecb3bfd05",
   "metadata": {},
   "outputs": [
    {
     "name": "stdout",
     "output_type": "stream",
     "text": [
      "The value of a: 10\n"
     ]
    }
   ],
   "source": [
    "a=10\n",
    "print(\"The value of a:\",a)"
   ]
  },
  {
   "cell_type": "code",
   "execution_count": 60,
   "id": "d80c500a-9516-45a3-81ee-59ba447183d1",
   "metadata": {},
   "outputs": [
    {
     "name": "stdout",
     "output_type": "stream",
     "text": [
      "Name ram siva\n"
     ]
    }
   ],
   "source": [
    "first_name='siva'\n",
    "last_name='ram'\n",
    "print(\"Name\",last_name,first_name)"
   ]
  },
  {
   "cell_type": "code",
   "execution_count": 56,
   "id": "a3f193fa-fdb2-427c-a6cf-bea0c2ee196a",
   "metadata": {},
   "outputs": [
    {
     "name": "stdout",
     "output_type": "stream",
     "text": [
      "my first name is: siva and last name is: ram\n"
     ]
    }
   ],
   "source": [
    "print(\"my first name is:\",first_name,\"and last name is:\",last_name)"
   ]
  },
  {
   "cell_type": "code",
   "execution_count": 57,
   "id": "75efe9f1-0662-43a4-93c4-3d63465816b3",
   "metadata": {},
   "outputs": [
    {
     "ename": "SyntaxError",
     "evalue": "incomplete input (1637160212.py, line 1)",
     "output_type": "error",
     "traceback": [
      "\u001b[1;36m  Cell \u001b[1;32mIn[57], line 1\u001b[1;36m\u001b[0m\n\u001b[1;33m    print(\"My First name is:(first}andlast name is:{first}\".format(last=last_name,first=last_name)\u001b[0m\n\u001b[1;37m                                                                                                  ^\u001b[0m\n\u001b[1;31mSyntaxError\u001b[0m\u001b[1;31m:\u001b[0m incomplete input\n"
     ]
    }
   ],
   "source": [
    "print(\"My First name is:(first}andlast name is:{first}\".format(last=last_name,first=last_name)"
   ]
  },
  {
   "cell_type": "code",
   "execution_count": 62,
   "id": "cc29292b-f6b9-4996-b7cc-5ba53deb50fc",
   "metadata": {},
   "outputs": [
    {
     "name": "stdout",
     "output_type": "stream",
     "text": [
      "My number is:12and my name is:Sam\n",
      "My number is:12and my name is:Sam\n",
      "My number is: 12 and my name is: Sam\n"
     ]
    }
   ],
   "source": [
    "num=12\n",
    "name='Sam'\n",
    "print('My number is:{one}and my name is:{two}'.format(one=num,two=name))\n",
    "print('My number is:{}and my name is:{}'.format(num,name))\n",
    "print(\"My number is:\",num,\"and my name is:\",name)"
   ]
  },
  {
   "cell_type": "code",
   "execution_count": 63,
   "id": "d4eeb145-8145-4a5f-ac02-b9f87d0b23a3",
   "metadata": {},
   "outputs": [
    {
     "data": {
      "text/plain": [
       "'C:\\\\Users\\\\USER'"
      ]
     },
     "execution_count": 63,
     "metadata": {},
     "output_type": "execute_result"
    }
   ],
   "source": [
    "pwd"
   ]
  },
  {
   "cell_type": "code",
   "execution_count": null,
   "id": "3fcab863-fd5f-4c09-a53e-e7137055bb56",
   "metadata": {},
   "outputs": [],
   "source": []
  }
 ],
 "metadata": {
  "kernelspec": {
   "display_name": "Python 3 (ipykernel)",
   "language": "python",
   "name": "python3"
  },
  "language_info": {
   "codemirror_mode": {
    "name": "ipython",
    "version": 3
   },
   "file_extension": ".py",
   "mimetype": "text/x-python",
   "name": "python",
   "nbconvert_exporter": "python",
   "pygments_lexer": "ipython3",
   "version": "3.11.7"
  }
 },
 "nbformat": 4,
 "nbformat_minor": 5
}
