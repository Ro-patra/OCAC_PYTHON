{
 "cells": [
  {
   "cell_type": "code",
   "execution_count": 3,
   "id": "50f5a412-df4e-472a-83e8-43724b34d5ba",
   "metadata": {},
   "outputs": [],
   "source": [
    "def double(num):\n",
    "    \"\"\"\n",
    "    whatever the number you enter .... it just double the number\n",
    "    \"\"\"\n",
    "    return 2 * num"
   ]
  },
  {
   "cell_type": "code",
   "execution_count": 5,
   "id": "b5246c49-53c5-4729-aea5-3b451561ae58",
   "metadata": {},
   "outputs": [
    {
     "name": "stdout",
     "output_type": "stream",
     "text": [
      "\n",
      "    whatever the number you enter .... it just double the number\n",
      "    \n"
     ]
    }
   ],
   "source": [
    "print(double.__doc__)"
   ]
  },
  {
   "cell_type": "code",
   "execution_count": 7,
   "id": "00e4cfff-bccf-4e48-a7ef-a0702595c1f8",
   "metadata": {},
   "outputs": [
    {
     "data": {
      "text/plain": [
       "20"
      ]
     },
     "execution_count": 7,
     "metadata": {},
     "output_type": "execute_result"
    }
   ],
   "source": [
    "double(10)"
   ]
  },
  {
   "cell_type": "code",
   "execution_count": 9,
   "id": "6d341d4d-5c8c-447b-b03e-df21cd1557ff",
   "metadata": {},
   "outputs": [],
   "source": [
    "def double(num):\n",
    "    return 2*int(num)"
   ]
  },
  {
   "cell_type": "code",
   "execution_count": 11,
   "id": "f24ceeee-67e7-4deb-bbac-d749b728f19a",
   "metadata": {},
   "outputs": [
    {
     "data": {
      "text/plain": [
       "20"
      ]
     },
     "execution_count": 11,
     "metadata": {},
     "output_type": "execute_result"
    }
   ],
   "source": [
    "double(10.7)"
   ]
  },
  {
   "cell_type": "code",
   "execution_count": 13,
   "id": "25e1bef5-b995-41dd-bb4d-ea4c44e806f6",
   "metadata": {},
   "outputs": [
    {
     "data": {
      "text/plain": [
       "2"
      ]
     },
     "execution_count": 13,
     "metadata": {},
     "output_type": "execute_result"
    }
   ],
   "source": [
    "def sub(num1,num2):\n",
    "    return num1-num2\n",
    "\n",
    "sub(4,2)"
   ]
  },
  {
   "cell_type": "code",
   "execution_count": 15,
   "id": "bdd14abb-74e4-41a1-9757-bb5cdd5aac84",
   "metadata": {},
   "outputs": [],
   "source": [
    "def print__name(x):\n",
    "    print(\"Hello\",x)"
   ]
  },
  {
   "cell_type": "code",
   "execution_count": 17,
   "id": "19c63bc6-b45a-4910-bd2c-e2cc6168b2c2",
   "metadata": {},
   "outputs": [
    {
     "name": "stdout",
     "output_type": "stream",
     "text": [
      "Hello siva\n"
     ]
    }
   ],
   "source": [
    "print__name(\"siva\")"
   ]
  },
  {
   "cell_type": "code",
   "execution_count": 19,
   "id": "c0597d5d-f40e-4b39-bf05-49c2a23ed318",
   "metadata": {},
   "outputs": [
    {
     "name": "stdout",
     "output_type": "stream",
     "text": [
      "Hello 125\n"
     ]
    }
   ],
   "source": [
    "print__name(125)"
   ]
  },
  {
   "cell_type": "code",
   "execution_count": 34,
   "id": "e23c9f6d-bce3-40e9-8432-f62dd2c8d6d1",
   "metadata": {},
   "outputs": [
    {
     "data": {
      "text/plain": [
       "10"
      ]
     },
     "execution_count": 34,
     "metadata": {},
     "output_type": "execute_result"
    }
   ],
   "source": [
    "def get_sum(lst):\n",
    "    sum = 0\n",
    "    for num in lst:\n",
    "         sum += num\n",
    "    return sum\n",
    "\n",
    "get_sum([1,2,3,4])\n",
    "    \n",
    "    "
   ]
  },
  {
   "cell_type": "code",
   "execution_count": 45,
   "id": "dbba711b-6836-4582-acfe-c43343ae70fa",
   "metadata": {},
   "outputs": [
    {
     "name": "stdout",
     "output_type": "stream",
     "text": [
      "5\n",
      "10\n",
      "15\n",
      "20\n",
      "25\n",
      "30\n",
      "40\n",
      "45\n"
     ]
    }
   ],
   "source": [
    "def num_5_7(i):\n",
    "    for num in range(1,i):\n",
    "        if num%5 == 0 and num%7!=0:\n",
    "             print(num)\n",
    "\n",
    "num_5_7(50)"
   ]
  },
  {
   "cell_type": "code",
   "execution_count": 47,
   "id": "7364a0eb-a115-4e2b-94ef-9f7589ae1ca2",
   "metadata": {},
   "outputs": [
    {
     "name": "stdout",
     "output_type": "stream",
     "text": [
      "2 3\n"
     ]
    }
   ],
   "source": [
    "lst=[1,2,3,4,5]\n",
    "\n",
    "even_sum=0\n",
    "odd_sum=0\n",
    "for i in lst:\n",
    "    if i%2==0:\n",
    "        even_sum=even_sum+1\n",
    "    else:\n",
    "        odd_sum=odd_sum+1\n",
    "\n",
    "print(even_sum, odd_sum)"
   ]
  },
  {
   "cell_type": "code",
   "execution_count": 58,
   "id": "179e842c-2b72-4ec5-a674-096667a31e17",
   "metadata": {},
   "outputs": [
    {
     "name": "stdout",
     "output_type": "stream",
     "text": [
      "2 3\n"
     ]
    }
   ],
   "source": [
    "def f_n(l):\n",
    "    even_sum=0\n",
    "    odd_sum=0\n",
    "    for i in 1:\n",
    "        if i%2==0:\n",
    "            even_sum=even_sum+1\n",
    "        else:\n",
    "            odd_sum=odd_sum+i\n",
    "\n",
    "print(even_sum,odd_sum)"
   ]
  },
  {
   "cell_type": "code",
   "execution_count": 60,
   "id": "69012e2c-8bf0-4f5c-a9f7-4499d8ead7f1",
   "metadata": {},
   "outputs": [
    {
     "ename": "TypeError",
     "evalue": "'int' object is not iterable",
     "output_type": "error",
     "traceback": [
      "\u001b[1;31m---------------------------------------------------------------------------\u001b[0m",
      "\u001b[1;31mTypeError\u001b[0m                                 Traceback (most recent call last)",
      "Cell \u001b[1;32mIn[60], line 1\u001b[0m\n\u001b[1;32m----> 1\u001b[0m f_n([\u001b[38;5;241m1\u001b[39m,\u001b[38;5;241m2\u001b[39m,\u001b[38;5;241m3\u001b[39m,\u001b[38;5;241m4\u001b[39m,\u001b[38;5;241m5\u001b[39m])\n",
      "Cell \u001b[1;32mIn[58], line 4\u001b[0m, in \u001b[0;36mf_n\u001b[1;34m(l)\u001b[0m\n\u001b[0;32m      2\u001b[0m even_sum\u001b[38;5;241m=\u001b[39m\u001b[38;5;241m0\u001b[39m\n\u001b[0;32m      3\u001b[0m odd_sum\u001b[38;5;241m=\u001b[39m\u001b[38;5;241m0\u001b[39m\n\u001b[1;32m----> 4\u001b[0m \u001b[38;5;28;01mfor\u001b[39;00m i \u001b[38;5;129;01min\u001b[39;00m \u001b[38;5;241m1\u001b[39m:\n\u001b[0;32m      5\u001b[0m     \u001b[38;5;28;01mif\u001b[39;00m i\u001b[38;5;241m%\u001b[39m\u001b[38;5;241m2\u001b[39m\u001b[38;5;241m==\u001b[39m\u001b[38;5;241m0\u001b[39m:\n\u001b[0;32m      6\u001b[0m         even_sum\u001b[38;5;241m=\u001b[39meven_sum\u001b[38;5;241m+\u001b[39m\u001b[38;5;241m1\u001b[39m\n",
      "\u001b[1;31mTypeError\u001b[0m: 'int' object is not iterable"
     ]
    }
   ],
   "source": [
    "f_n([1,2,3,4,5])"
   ]
  },
  {
   "cell_type": "code",
   "execution_count": 62,
   "id": "86a1a7e1-2236-4ae7-b267-f5fd10ea9a86",
   "metadata": {},
   "outputs": [
    {
     "name": "stdout",
     "output_type": "stream",
     "text": [
      "Hello satish , Good Morning\n"
     ]
    }
   ],
   "source": [
    "def greet(name,msg):\n",
    "    print(\"Hello {} , {}\" .format(name,msg))\n",
    "\n",
    "greet(\"satish\" , \"Good Morning\")"
   ]
  },
  {
   "cell_type": "code",
   "execution_count": null,
   "id": "22a19272-2f4f-47f5-a8c4-2f30164008f6",
   "metadata": {},
   "outputs": [],
   "source": [
    "def even_num():\n",
    "    lb=int(input('enter lower bound values:'))"
   ]
  }
 ],
 "metadata": {
  "kernelspec": {
   "display_name": "Python 3 (ipykernel)",
   "language": "python",
   "name": "python3"
  },
  "language_info": {
   "codemirror_mode": {
    "name": "ipython",
    "version": 3
   },
   "file_extension": ".py",
   "mimetype": "text/x-python",
   "name": "python",
   "nbconvert_exporter": "python",
   "pygments_lexer": "ipython3",
   "version": "3.12.4"
  }
 },
 "nbformat": 4,
 "nbformat_minor": 5
}
